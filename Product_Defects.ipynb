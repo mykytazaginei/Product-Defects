{
  "cells": [
    {
      "cell_type": "markdown",
      "id": "4b2cd154",
      "metadata": {
        "id": "4b2cd154"
      },
      "source": [
        "# Product Defects"
      ]
    },
    {
      "cell_type": "markdown",
      "id": "24b7687a",
      "metadata": {
        "id": "24b7687a"
      },
      "source": [
        "## Distribution in Theory"
      ]
    },
    {
      "cell_type": "markdown",
      "id": "6507ea83",
      "metadata": {
        "id": "6507ea83"
      },
      "source": [
        "1. I create a variable called `lam` that represents the rate parameter of our distribution."
      ]
    },
    {
      "cell_type": "code",
      "execution_count": 49,
      "id": "5004fed3",
      "metadata": {
        "id": "5004fed3"
      },
      "outputs": [],
      "source": [
        "import scipy.stats as stats\n",
        "import numpy as np\n",
        "\n",
        "lam = 7"
      ]
    },
    {
      "cell_type": "markdown",
      "id": "74c409d6",
      "metadata": {
        "id": "74c409d6"
      },
      "source": [
        "2. I know that the rate parameter of a Poisson distribution is equal to the expected value. So in our factory, the rate parameter would equal the expected number of defects on a given day. I am curious about how often we might observe the exact expected number of defects.\n",
        "\n",
        "   I calculate and print the probability of observing exactly `lam` defects on a given day."
      ]
    },
    {
      "cell_type": "code",
      "execution_count": 50,
      "id": "9460b5b8",
      "metadata": {
        "colab": {
          "base_uri": "https://localhost:8080/"
        },
        "id": "9460b5b8",
        "outputId": "ca634f7d-d55f-4958-a659-51a17acba786"
      },
      "outputs": [
        {
          "output_type": "stream",
          "name": "stdout",
          "text": [
            "0.14900277967433773\n"
          ]
        }
      ],
      "source": [
        "print(stats.poisson.pmf(7, lam))\n"
      ]
    },
    {
      "cell_type": "markdown",
      "id": "2f2e2d1f",
      "metadata": {
        "id": "2f2e2d1f"
      },
      "source": [
        "3. My boss said that having 4 or fewer defects on a given day is an exceptionally good day. I am curious about how often that might happen.\n",
        "\n",
        "   I calculate and print the probability of having one of those days."
      ]
    },
    {
      "cell_type": "code",
      "execution_count": 51,
      "id": "f4ebb772",
      "metadata": {
        "colab": {
          "base_uri": "https://localhost:8080/"
        },
        "id": "f4ebb772",
        "outputId": "c056da4e-d688-433c-b30d-72edde74e3a2"
      },
      "outputs": [
        {
          "output_type": "stream",
          "name": "stdout",
          "text": [
            "0.17299160788207146\n"
          ]
        }
      ],
      "source": [
        "print(stats.poisson.cdf(4, lam))"
      ]
    },
    {
      "cell_type": "markdown",
      "id": "53d28c8f",
      "metadata": {
        "id": "53d28c8f"
      },
      "source": [
        "4. On the other hand, my boss said that having more than 9 defects on a given day is considered a bad day.\n",
        "\n",
        "   I calculate and print the probability of having one of these bad days."
      ]
    },
    {
      "cell_type": "code",
      "execution_count": 52,
      "id": "a2e52583",
      "metadata": {
        "colab": {
          "base_uri": "https://localhost:8080/"
        },
        "id": "a2e52583",
        "outputId": "d9c26752-343a-4997-e83c-e33eff7fa0b2"
      },
      "outputs": [
        {
          "output_type": "stream",
          "name": "stdout",
          "text": [
            "0.16950406276132668\n"
          ]
        }
      ],
      "source": [
        "print(1 - stats.poisson.cdf(9, lam))"
      ]
    },
    {
      "cell_type": "markdown",
      "id": "51b70b96",
      "metadata": {
        "id": "51b70b96"
      },
      "source": [
        "## Distribution in Practice"
      ]
    },
    {
      "cell_type": "markdown",
      "id": "64c0a33e",
      "metadata": {
        "id": "64c0a33e"
      },
      "source": [
        "5. I have familiarized yourself a little bit about how the Poisson distribution works in theory by calculating different probabilities. But let's look at what this might look like in practice.\n",
        "\n",
        "   I create a variable called `year_defects` that has 365 random values from the Poisson distribution."
      ]
    },
    {
      "cell_type": "code",
      "execution_count": 53,
      "id": "ca2113e6",
      "metadata": {
        "id": "ca2113e6"
      },
      "outputs": [],
      "source": [
        "year_defects = stats.poisson.rvs(lam, size = 365)"
      ]
    },
    {
      "cell_type": "markdown",
      "id": "d7f3dce8",
      "metadata": {
        "id": "d7f3dce8"
      },
      "source": [
        "6. Let's take a look at our new dataset. I print the first 20 values in this dataset."
      ]
    },
    {
      "cell_type": "code",
      "execution_count": 54,
      "id": "b1d5f0c1",
      "metadata": {
        "colab": {
          "base_uri": "https://localhost:8080/"
        },
        "id": "b1d5f0c1",
        "outputId": "a8ef872b-e292-47aa-cbbb-62f4c715a297"
      },
      "outputs": [
        {
          "output_type": "stream",
          "name": "stdout",
          "text": [
            "[7 7 6 5 5 4 7]\n"
          ]
        }
      ],
      "source": [
        "print(year_defects[0:7])"
      ]
    },
    {
      "cell_type": "markdown",
      "id": "eedc358b",
      "metadata": {
        "id": "eedc358b"
      },
      "source": [
        "7. If we expect 7 defects on a given day, what is the total number of defects we would expect over 365 days?\n",
        "\n",
        "   I calculate and print this value to the output terminal."
      ]
    },
    {
      "cell_type": "code",
      "execution_count": 55,
      "id": "75d2f0e0",
      "metadata": {
        "colab": {
          "base_uri": "https://localhost:8080/"
        },
        "id": "75d2f0e0",
        "outputId": "20f16558-21d4-4c2c-8950-6ead96d557a9"
      },
      "outputs": [
        {
          "output_type": "stream",
          "name": "stdout",
          "text": [
            "2555\n"
          ]
        }
      ],
      "source": [
        "print(7*365)"
      ]
    },
    {
      "cell_type": "markdown",
      "id": "ad96cdf6",
      "metadata": {
        "id": "ad96cdf6"
      },
      "source": [
        "8. I calculate and print the total sum of the dataset `year_defects`."
      ]
    },
    {
      "cell_type": "code",
      "execution_count": 56,
      "id": "da304786",
      "metadata": {
        "colab": {
          "base_uri": "https://localhost:8080/"
        },
        "id": "da304786",
        "outputId": "336b61fa-335e-40de-e865-01300947c8f0"
      },
      "outputs": [
        {
          "output_type": "stream",
          "name": "stdout",
          "text": [
            "2585\n"
          ]
        }
      ],
      "source": [
        "print(sum(year_defects))"
      ]
    },
    {
      "cell_type": "markdown",
      "id": "aefa9e09",
      "metadata": {
        "id": "aefa9e09"
      },
      "source": [
        "9. I calculate and print the average number of defects per day from our simulated dataset.\n",
        "\n",
        "   How does this compare to the expected average number of defects each day that we know from the given rate parameter of the Poisson distribution?"
      ]
    },
    {
      "cell_type": "code",
      "execution_count": 57,
      "id": "febc26d4",
      "metadata": {
        "colab": {
          "base_uri": "https://localhost:8080/"
        },
        "id": "febc26d4",
        "outputId": "e8ad03c5-be41-4a4b-cab6-2f5d93c320c6"
      },
      "outputs": [
        {
          "output_type": "stream",
          "name": "stdout",
          "text": [
            "7.082191780821918\n"
          ]
        }
      ],
      "source": [
        "print(np.mean(year_defects))"
      ]
    },
    {
      "cell_type": "markdown",
      "id": "31308a48",
      "metadata": {
        "id": "31308a48"
      },
      "source": [
        "10. I am worried about what the highest amount of defects in a single day might be because that would be a hectic day.\n",
        "\n",
        "    Print the maximum value of `year_defects`."
      ]
    },
    {
      "cell_type": "code",
      "execution_count": 58,
      "id": "18feb435",
      "metadata": {
        "colab": {
          "base_uri": "https://localhost:8080/"
        },
        "id": "18feb435",
        "outputId": "ec713514-73d9-413c-a077-9ba3c1e9c988"
      },
      "outputs": [
        {
          "output_type": "stream",
          "name": "stdout",
          "text": [
            "16\n"
          ]
        }
      ],
      "source": [
        "print(max(year_defects))"
      ]
    },
    {
      "cell_type": "markdown",
      "id": "64b6a84a",
      "metadata": {
        "id": "64b6a84a"
      },
      "source": [
        "11. Wow, it would probably be super busy if there were that many defects on a single day. Hopefully, it is a rare event!\n",
        "\n",
        "    I calculate and print the probability of observing that maximum value or more from the Poisson(7) distribution."
      ]
    },
    {
      "cell_type": "code",
      "execution_count": 59,
      "id": "a63b1329",
      "metadata": {
        "colab": {
          "base_uri": "https://localhost:8080/"
        },
        "id": "a63b1329",
        "outputId": "6830f369-6294-4078-a5b1-4060b45ee70a"
      },
      "outputs": [
        {
          "output_type": "stream",
          "name": "stdout",
          "text": [
            "0.0009581831589177137\n"
          ]
        }
      ],
      "source": [
        "print(1 - stats.poisson.cdf(max(year_defects), 7))"
      ]
    },
    {
      "cell_type": "markdown",
      "id": "5060f0ec",
      "metadata": {
        "id": "5060f0ec"
      },
      "source": [
        "12. At this point, I have now explored the Poisson distribution and even worked with some simulated data.\n",
        "\n",
        "    Let's say we want to know how many defects in a given day would put us in the 90th percentile of the Poisson(7) distribution. One way we could calculate this is by using the following method:\n",
        "    \n",
        "    ```py\n",
        "    stats.poisson.ppf(percentile, lambda)\n",
        "    ```\n",
        "    \n",
        "    `percentile` is equal to the desired percentile (a decimal between 0 and 1), and `lambda` is the lambda parameter of the Poisson distribution. This function is essentially the inverse of the CDF.\n",
        "    \n",
        "    I will use this method to calculate and print the number of defects that would put us in the 90th percentile for a given day. In other words, on 90% of days, we will observe fewer defects than this number."
      ]
    },
    {
      "cell_type": "code",
      "execution_count": 60,
      "id": "e6156c3e",
      "metadata": {
        "colab": {
          "base_uri": "https://localhost:8080/"
        },
        "id": "e6156c3e",
        "outputId": "4cac914b-ce24-47fe-f8f8-faba197c81ef"
      },
      "outputs": [
        {
          "output_type": "stream",
          "name": "stdout",
          "text": [
            "10.0\n"
          ]
        }
      ],
      "source": [
        "print(stats.poisson.ppf(0.9, lam))"
      ]
    },
    {
      "cell_type": "markdown",
      "id": "0d86d9d0",
      "metadata": {
        "id": "0d86d9d0"
      },
      "source": [
        "13. Now let's see what proportion of our simulated dataset `year_defects` is greater than or equal to the number we calculated in the previous step.\n",
        "\n",
        "    By definition of a percentile, we would expect 1 - .90, or about 10% of days to be in this range.\n",
        "    \n",
        "    To calculate this:\n",
        "    \n",
        "     1) I count the number of values in the dataset that are greater than or equal to the 90th percentile value.\n",
        "     \n",
        "     2) I divide this number by the length of the dataset."
      ]
    },
    {
      "cell_type": "code",
      "execution_count": 61,
      "id": "c80c6e6a",
      "metadata": {
        "colab": {
          "base_uri": "https://localhost:8080/"
        },
        "id": "c80c6e6a",
        "outputId": "8b391145-d891-4e6d-c608-39b7b45db8ba"
      },
      "outputs": [
        {
          "output_type": "stream",
          "name": "stdout",
          "text": [
            "0.09041095890410959\n"
          ]
        }
      ],
      "source": [
        "print(sum(year_defects > stats.poisson.ppf(0.9,lam))/len(year_defects))"
      ]
    }
  ],
  "metadata": {
    "kernelspec": {
      "display_name": "Python 3 (ipykernel)",
      "language": "python",
      "name": "python3"
    },
    "language_info": {
      "codemirror_mode": {
        "name": "ipython",
        "version": 3
      },
      "file_extension": ".py",
      "mimetype": "text/x-python",
      "name": "python",
      "nbconvert_exporter": "python",
      "pygments_lexer": "ipython3",
      "version": "3.7.11"
    },
    "colab": {
      "provenance": []
    }
  },
  "nbformat": 4,
  "nbformat_minor": 5
}